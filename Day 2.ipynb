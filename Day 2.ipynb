{
 "cells": [
  {
   "cell_type": "code",
   "execution_count": 2,
   "id": "ad05aa35",
   "metadata": {},
   "outputs": [
    {
     "name": "stdout",
     "output_type": "stream",
     "text": [
      "a is smaller than b\n",
      "Artificial Intelligence\n",
      "Machine Learning\n"
     ]
    }
   ],
   "source": [
    "a= 23\n",
    "b=45\n",
    "if a<b:\n",
    "    print(\"a is smaller than b\")\n",
    "    print(\"Artificial Intelligence\")\n",
    "print(\"Machine Learning\")"
   ]
  },
  {
   "cell_type": "markdown",
   "id": "76d90cf3",
   "metadata": {},
   "source": []
  },
  {
   "cell_type": "code",
   "execution_count": 3,
   "id": "3b2b8a63",
   "metadata": {},
   "outputs": [
    {
     "name": "stdout",
     "output_type": "stream",
     "text": [
      "Machine Learning\n"
     ]
    }
   ],
   "source": [
    "a= 23\n",
    "b=20\n",
    "if a<b:\n",
    "    print(\"a is smaller than b\")\n",
    "    print(\"Artificial Intelligence\")\n",
    "print(\"Machine Learning\")"
   ]
  },
  {
   "cell_type": "code",
   "execution_count": 4,
   "id": "bdfc0d12",
   "metadata": {},
   "outputs": [
    {
     "name": "stdout",
     "output_type": "stream",
     "text": [
      "a is greater than b\n",
      "Machine Learning\n"
     ]
    }
   ],
   "source": [
    "a= 50\n",
    "b=40\n",
    "if a<b:\n",
    "    print(\"a is smaller than b\")\n",
    "    print(\"Artificial Intelligence\")\n",
    "else:\n",
    "    print(\"a is greater than b\")\n",
    "print(\"Machine Learning\")\n"
   ]
  },
  {
   "cell_type": "code",
   "execution_count": 5,
   "id": "6cf41a88",
   "metadata": {},
   "outputs": [
    {
     "name": "stdout",
     "output_type": "stream",
     "text": [
      "a is equal to b\n",
      "Machine Learning\n"
     ]
    }
   ],
   "source": [
    "a= 40\n",
    "b=40\n",
    "if a<b:\n",
    "    print(\"a is smaller than b\")\n",
    "    print(\"Artificial Intelligence\")\n",
    "elif a==b:\n",
    "    print(\"a is equal to b\")\n",
    "else:\n",
    "    print(\"a is greater than b\")\n",
    "print(\"Machine Learning\")\n"
   ]
  },
  {
   "cell_type": "code",
   "execution_count": 6,
   "id": "ed6ecd96",
   "metadata": {},
   "outputs": [
    {
     "name": "stdout",
     "output_type": "stream",
     "text": [
      "We are going right\n"
     ]
    }
   ],
   "source": [
    "a=200\n",
    "b=300\n",
    "c=300\n",
    "if a<b and b==c:\n",
    "    print(\"We are going right\")"
   ]
  },
  {
   "cell_type": "code",
   "execution_count": 7,
   "id": "ae261c8f",
   "metadata": {},
   "outputs": [
    {
     "name": "stdout",
     "output_type": "stream",
     "text": [
      "more than 10\n",
      "above 100\n"
     ]
    }
   ],
   "source": [
    "if a>10:\n",
    "    print(\"more than 10\")\n",
    "    if(a>100):\n",
    "        print(\"above 100\")\n",
    "    else:\n",
    "        print(\"above 10 but less than 100\")"
   ]
  },
  {
   "cell_type": "code",
   "execution_count": 8,
   "id": "6b094490",
   "metadata": {},
   "outputs": [
    {
     "name": "stdout",
     "output_type": "stream",
     "text": [
      "34\n",
      "<class 'str'>\n"
     ]
    }
   ],
   "source": [
    "x=input()\n",
    "x\n",
    "print(type(x))"
   ]
  },
  {
   "cell_type": "code",
   "execution_count": 11,
   "id": "eabe6bda",
   "metadata": {},
   "outputs": [],
   "source": [
    "a=90\n",
    "if a>100:\n",
    "    print(\"more than 10\")\n",
    "    if(a>10):\n",
    "        print(\"above 100\")\n",
    "    else:\n",
    "        print(\"above 10 but less than 100\")"
   ]
  },
  {
   "cell_type": "code",
   "execution_count": null,
   "id": "dad00786",
   "metadata": {},
   "outputs": [],
   "source": []
  },
  {
   "cell_type": "code",
   "execution_count": 13,
   "id": "8071dd3e",
   "metadata": {},
   "outputs": [
    {
     "name": "stdout",
     "output_type": "stream",
     "text": [
      "10\n",
      "<class 'str'>\n",
      "Equal to 10\n"
     ]
    }
   ],
   "source": [
    "x=input()\n",
    "print(type(x))\n",
    "if x=='10':\n",
    "    print(\"Equal to 10\")\n",
    "else:\n",
    "    print(\"Not equal to 10\")"
   ]
  },
  {
   "cell_type": "code",
   "execution_count": 14,
   "id": "760905db",
   "metadata": {},
   "outputs": [
    {
     "name": "stdout",
     "output_type": "stream",
     "text": [
      "10\n",
      "<class 'str'>\n",
      "Not equal to 10\n"
     ]
    }
   ],
   "source": [
    "x=input()\n",
    "print(type(x))\n",
    "if x==10: #as we have assigned the string value above\n",
    "    print(\"Equal to 10\")\n",
    "else:\n",
    "    print(\"Not equal to 10\")"
   ]
  },
  {
   "cell_type": "code",
   "execution_count": 2,
   "id": "9fa5185f",
   "metadata": {},
   "outputs": [
    {
     "ename": "IndentationError",
     "evalue": "unexpected indent (1273601571.py, line 5)",
     "output_type": "error",
     "traceback": [
      "\u001b[1;36m  File \u001b[1;32m\"C:\\Users\\anike\\AppData\\Local\\Temp\\ipykernel_25376\\1273601571.py\"\u001b[1;36m, line \u001b[1;32m5\u001b[0m\n\u001b[1;33m    if(a>b)and(a>c):\u001b[0m\n\u001b[1;37m    ^\u001b[0m\n\u001b[1;31mIndentationError\u001b[0m\u001b[1;31m:\u001b[0m unexpected indent\n"
     ]
    }
   ],
   "source": [
    "#write a program to find the greatest integer among 3 no.\n",
    "a=int(\"Enter the first no.\")\n",
    "b=int(\"Enter the second no.\")\n",
    "c=int(\"Enter the third no.\")\n",
    " if(a>b)and(a>c):\n",
    "        print(\"a is the greatest \")\n",
    "elif(b>a)and(b>c):\n",
    "    print(\"b is greatest \")\n",
    "else:\n",
    "    print(\"c is greatest \")"
   ]
  },
  {
   "cell_type": "code",
   "execution_count": null,
   "id": "9e226a0d",
   "metadata": {},
   "outputs": [],
   "source": [
    "#loops\n",
    "#while loop \n"
   ]
  },
  {
   "cell_type": "code",
   "execution_count": 15,
   "id": "35d2d94f",
   "metadata": {},
   "outputs": [
    {
     "name": "stdout",
     "output_type": "stream",
     "text": [
      "1\n",
      "2\n",
      "3\n",
      "4\n",
      "5\n"
     ]
    }
   ],
   "source": [
    "i=1\n",
    "while i<6:\n",
    "    print(i)\n",
    "    i+=1"
   ]
  },
  {
   "cell_type": "code",
   "execution_count": 5,
   "id": "3aac31fd",
   "metadata": {},
   "outputs": [
    {
     "name": "stdout",
     "output_type": "stream",
     "text": [
      "Enter the first no.56\n",
      "Enter the second no.70\n",
      "Enter the third no.20\n",
      "b is greatest \n"
     ]
    }
   ],
   "source": [
    "#program to find the greatest integer among 3 no.\n",
    "a=int(input(\"Enter the first no.\"))\n",
    "b=int(input(\"Enter the second no.\"))\n",
    "c=int(input(\"Enter the third no.\"))\n",
    "if(a>b)and(a>c):\n",
    "        print(\"a is the greatest \")\n",
    "elif(b>a)and(b>c):\n",
    "    print(\"b is greatest \")\n",
    "else:\n",
    "    print(\"c is greatest \")"
   ]
  },
  {
   "cell_type": "code",
   "execution_count": null,
   "id": "78473847",
   "metadata": {},
   "outputs": [],
   "source": []
  }
 ],
 "metadata": {
  "kernelspec": {
   "display_name": "Python 3 (ipykernel)",
   "language": "python",
   "name": "python3"
  },
  "language_info": {
   "codemirror_mode": {
    "name": "ipython",
    "version": 3
   },
   "file_extension": ".py",
   "mimetype": "text/x-python",
   "name": "python",
   "nbconvert_exporter": "python",
   "pygments_lexer": "ipython3",
   "version": "3.9.13"
  }
 },
 "nbformat": 4,
 "nbformat_minor": 5
}
